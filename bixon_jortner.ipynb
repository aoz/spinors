{
  "nbformat": 4,
  "nbformat_minor": 0,
  "metadata": {
    "kernelspec": {
      "name": "python3",
      "display_name": "Python 3"
    },
    "colab": {
      "name": "bixon-jortner.ipynb",
      "provenance": [],
      "collapsed_sections": []
    }
  },
  "cells": [
    {
      "cell_type": "code",
      "metadata": {
        "id": "dC65V9i5s5Dh",
        "colab_type": "code",
        "colab": {}
      },
      "source": [
        "import matplotlib.pyplot as plt\n",
        "import numpy as np\n",
        "import scipy\n",
        "import scipy.linalg as SL\n",
        "import scipy.sparse as SS\n",
        "from scipy.sparse.linalg import eigs as ss_eigs\n",
        "# too many imports clean this up\n",
        "%matplotlib inline"
      ],
      "execution_count": 0,
      "outputs": []
    },
    {
      "cell_type": "markdown",
      "metadata": {
        "id": "3F1tCvpps5EF",
        "colab_type": "text"
      },
      "source": [
        "## Define fns"
      ]
    },
    {
      "cell_type": "markdown",
      "metadata": {
        "id": "h-4aS2Lts5EH",
        "colab_type": "text"
      },
      "source": [
        "We define the Hamiltonian of a $(2n+1)$-dim quantum mechanical system. Easiest to show an example first. For $n=2$, we have\n",
        "\n",
        "$$\n",
        "H = \\begin{bmatrix}\n",
        "E_0 - 2\\epsilon & 0& V& 0& 0 \\\\\n",
        "0& E_0 - \\epsilon & V& 0& 0 \\\\\n",
        "V& V & E_0 & V& V&  \\\\\n",
        "0&0&V&E_0 + \\epsilon&0\\\\\n",
        "0& 0&V&0&E_0 + 2\\epsilon\\\\\n",
        "\\end{bmatrix}\n",
        "$$\n",
        "\n",
        "More generally,\n",
        "- We have states labeled by integers $-n \\le j \\le n$\n",
        "  - The state \"0\" is special\n",
        "- The Hamiltonian $H$ is given as follows\n",
        "  - Diagonal elements\n",
        "    - $H_{jj} = E_0 + \\epsilon j$\n",
        "  - Off-diagonal elements\n",
        "    - $j\\ne 0$ states are coupled to the special state with coupling $H_{j0} = V$\n",
        "    - there is no coupling between the $j\\ne 0$ states\n",
        "    \n",
        "     \n",
        "In short, for $-n \\le i, j \\le n $, we have\n",
        "\n",
        "$$\n",
        "H_{ij} = \\delta_{ij} (E_0 + \\epsilon j) + (\\delta_{i0} + \\delta_{j0} - 2 \\delta_{i0}\\delta_{j0})V \n",
        "$$\n",
        "\n"
      ]
    },
    {
      "cell_type": "markdown",
      "metadata": {
        "id": "ctb4_myGs5EI",
        "colab_type": "text"
      },
      "source": [
        "Let us define a function that returns this Hamiltonian for given values of the constants $n$, $E_0$, $V$, $\\epsilon$."
      ]
    },
    {
      "cell_type": "code",
      "metadata": {
        "id": "6o_D_rr9MccY",
        "colab_type": "code",
        "colab": {}
      },
      "source": [
        "def h(n, e0=0, v=1, eps=1):\n",
        "  H_0 = np.diag(np.ones(2*n + 1)*e0)\n",
        "  H_eps = np.diag(np.arange(-n, n+1)*eps)\n",
        "  H_v = np.block([\n",
        "    [np.zeros([n,n]), np.ones([n,1]), np.zeros([n,n])],\n",
        "    [np.ones([1,n]), 0, np.ones([1,n])],\n",
        "    [np.zeros([n,n]), np.ones([n,1]), np.zeros([n,n])]\n",
        "    ])\n",
        "  return H_0 + H_eps + H_v"
      ],
      "execution_count": 0,
      "outputs": []
    },
    {
      "cell_type": "code",
      "metadata": {
        "id": "8q0mLBS9s5E_",
        "colab_type": "code",
        "colab": {}
      },
      "source": [
        "# should directly construct the sparse version\n",
        "def hs(n, e0=0, v=1, eps=1):\n",
        "    return SS.csr_matrix(h(n, e0, v, eps))"
      ],
      "execution_count": 0,
      "outputs": []
    },
    {
      "cell_type": "markdown",
      "metadata": {
        "id": "qXqRg2QOSPQz",
        "colab_type": "text"
      },
      "source": [
        "Example: $n=5$, $E_0=0$, $V=1$, $\\epsilon=1$:"
      ]
    },
    {
      "cell_type": "code",
      "metadata": {
        "id": "y9q1gWuXs5FU",
        "colab_type": "code",
        "outputId": "0e446a9c-40fa-4e20-8de5-1cdf10d1b8a4",
        "colab": {
          "base_uri": "https://localhost:8080/",
          "height": 416
        }
      },
      "source": [
        "print(h(5))\n",
        "print()\n",
        "print(hs(5).toarray())"
      ],
      "execution_count": 42,
      "outputs": [
        {
          "output_type": "stream",
          "text": [
            "[[-5.  0.  0.  0.  0.  1.  0.  0.  0.  0.  0.]\n",
            " [ 0. -4.  0.  0.  0.  1.  0.  0.  0.  0.  0.]\n",
            " [ 0.  0. -3.  0.  0.  1.  0.  0.  0.  0.  0.]\n",
            " [ 0.  0.  0. -2.  0.  1.  0.  0.  0.  0.  0.]\n",
            " [ 0.  0.  0.  0. -1.  1.  0.  0.  0.  0.  0.]\n",
            " [ 1.  1.  1.  1.  1.  0.  1.  1.  1.  1.  1.]\n",
            " [ 0.  0.  0.  0.  0.  1.  1.  0.  0.  0.  0.]\n",
            " [ 0.  0.  0.  0.  0.  1.  0.  2.  0.  0.  0.]\n",
            " [ 0.  0.  0.  0.  0.  1.  0.  0.  3.  0.  0.]\n",
            " [ 0.  0.  0.  0.  0.  1.  0.  0.  0.  4.  0.]\n",
            " [ 0.  0.  0.  0.  0.  1.  0.  0.  0.  0.  5.]]\n",
            "\n",
            "[[-5.  0.  0.  0.  0.  1.  0.  0.  0.  0.  0.]\n",
            " [ 0. -4.  0.  0.  0.  1.  0.  0.  0.  0.  0.]\n",
            " [ 0.  0. -3.  0.  0.  1.  0.  0.  0.  0.  0.]\n",
            " [ 0.  0.  0. -2.  0.  1.  0.  0.  0.  0.  0.]\n",
            " [ 0.  0.  0.  0. -1.  1.  0.  0.  0.  0.  0.]\n",
            " [ 1.  1.  1.  1.  1.  0.  1.  1.  1.  1.  1.]\n",
            " [ 0.  0.  0.  0.  0.  1.  1.  0.  0.  0.  0.]\n",
            " [ 0.  0.  0.  0.  0.  1.  0.  2.  0.  0.  0.]\n",
            " [ 0.  0.  0.  0.  0.  1.  0.  0.  3.  0.  0.]\n",
            " [ 0.  0.  0.  0.  0.  1.  0.  0.  0.  4.  0.]\n",
            " [ 0.  0.  0.  0.  0.  1.  0.  0.  0.  0.  5.]]\n"
          ],
          "name": "stdout"
        }
      ]
    },
    {
      "cell_type": "markdown",
      "metadata": {
        "id": "k0KuW4sFs5Fc",
        "colab_type": "text"
      },
      "source": [
        "## Examples"
      ]
    },
    {
      "cell_type": "code",
      "metadata": {
        "id": "45I20fPBs5Ff",
        "colab_type": "code",
        "colab": {}
      },
      "source": [
        "n = 300\n",
        "\n",
        "v   = 2\n",
        "eps = 1.0\n",
        "e0  = 0\n",
        "\n",
        "nn=2*n+1\n",
        "hn  = h(n=n, e0=e0, v=v, eps=eps)\n",
        "hsn = hs(n=n, e0=e0, v=v, eps=eps)"
      ],
      "execution_count": 0,
      "outputs": []
    },
    {
      "cell_type": "code",
      "metadata": {
        "id": "0tfMTEdts5Fp",
        "colab_type": "code",
        "outputId": "383867b8-1233-4130-f2c3-99878e9a418b",
        "colab": {
          "base_uri": "https://localhost:8080/",
          "height": 294
        }
      },
      "source": [
        "plt.matshow(hn)"
      ],
      "execution_count": 35,
      "outputs": [
        {
          "output_type": "execute_result",
          "data": {
            "text/plain": [
              "<matplotlib.image.AxesImage at 0x7feef49d6908>"
            ]
          },
          "metadata": {
            "tags": []
          },
          "execution_count": 35
        },
        {
          "output_type": "display_data",
          "data": {
            "image/png": "[encoded data removed]",
            "text/plain": [
              "<Figure size 288x288 with 1 Axes>"
            ]
          },
          "metadata": {
            "tags": [],
            "needs_background": "light"
          }
        }
      ]
    },
    {
      "cell_type": "code",
      "metadata": {
        "id": "rH2DGz8ws5F1",
        "colab_type": "code",
        "colab": {}
      },
      "source": [
        "eigval, eigvec = SL.eig(hn)\n",
        "assert np.all(np.imag(eigval) == 0)\n",
        "eigval = np.real(eigval)\n",
        "order = np.argsort(-eigval)\n",
        "eigvec = eigvec[:,order]\n",
        "eigval = eigval[order]\n",
        "\n",
        "k = 6\n",
        "eigvals, eigvecs = ss_eigs(hsn, k=k)\n",
        "assert np.all(np.imag(eigvals) == 0)\n",
        "eigvals = np.real(eigvals)\n",
        "orders = np.argsort(-eigvals)\n",
        "eigvals = eigvals[orders]\n",
        "eigvecs = eigvecs[:, orders]"
      ],
      "execution_count": 0,
      "outputs": []
    },
    {
      "cell_type": "code",
      "metadata": {
        "id": "HhfUqxxBs5F9",
        "colab_type": "code",
        "outputId": "32e5f03a-2eb3-46c5-d9af-53c679f53984",
        "colab": {
          "base_uri": "https://localhost:8080/",
          "height": 265
        }
      },
      "source": [
        "plt.plot(eigval, marker='o', alpha=.5, label='dense')\n",
        "plt.plot(eigvals, marker='o', alpha=.5, label='sparse')\n",
        "plt.legend()\n",
        "plt.show()"
      ],
      "execution_count": 37,
      "outputs": [
        {
          "output_type": "display_data",
          "data": {
            "image/png": "[encoded data removed]",
            "text/plain": [
              "<Figure size 432x288 with 1 Axes>"
            ]
          },
          "metadata": {
            "tags": [],
            "needs_background": "light"
          }
        }
      ]
    },
    {
      "cell_type": "markdown",
      "metadata": {
        "id": "kkN7X77Ws5GH",
        "colab_type": "text"
      },
      "source": [
        "Do sanity checks"
      ]
    },
    {
      "cell_type": "code",
      "metadata": {
        "id": "ltB-Hixis5GI",
        "colab_type": "code",
        "outputId": "983b7b75-4abd-423a-86ad-573c9eb25a82",
        "colab": {
          "base_uri": "https://localhost:8080/",
          "height": 34
        }
      },
      "source": [
        "np.abs(\n",
        "    np.matmul(hn, eigvec) - np.matmul(eigvec, np.diag(eigval))\n",
        ").max()"
      ],
      "execution_count": 38,
      "outputs": [
        {
          "output_type": "execute_result",
          "data": {
            "text/plain": [
              "8.29913915367797e-12"
            ]
          },
          "metadata": {
            "tags": []
          },
          "execution_count": 38
        }
      ]
    },
    {
      "cell_type": "code",
      "metadata": {
        "id": "pE_ZqCVGs5GR",
        "colab_type": "code",
        "colab": {}
      },
      "source": [
        "# pad with zeros--maybe not needed to do the check\n",
        "eigvecs_ext = np.block([eigvecs, np.zeros([nn, nn-k])])\n",
        "eigvals_ext = np.concatenate([eigvals, np.zeros(nn-k)])"
      ],
      "execution_count": 0,
      "outputs": []
    },
    {
      "cell_type": "code",
      "metadata": {
        "id": "xRNpf35qs5GZ",
        "colab_type": "code",
        "outputId": "4f39838f-f526-4826-b98f-bc5e6ab10657",
        "colab": {
          "base_uri": "https://localhost:8080/",
          "height": 34
        }
      },
      "source": [
        "np.abs(\n",
        "    np.matmul(hsn.toarray(), eigvecs_ext) - np.matmul(\n",
        "        eigvecs_ext,\n",
        "        np.diag(eigvals_ext)\n",
        "    )\n",
        ").max()"
      ],
      "execution_count": 40,
      "outputs": [
        {
          "output_type": "execute_result",
          "data": {
            "text/plain": [
              "2.7853275241795927e-12"
            ]
          },
          "metadata": {
            "tags": []
          },
          "execution_count": 40
        }
      ]
    },
    {
      "cell_type": "markdown",
      "metadata": {
        "id": "zI0IrzaXs5Gh",
        "colab_type": "text"
      },
      "source": [
        "### Look at the decay"
      ]
    },
    {
      "cell_type": "markdown",
      "metadata": {
        "id": "ceNoEVaks5Gi",
        "colab_type": "text"
      },
      "source": [
        "Can do with both direct exponentiation or using the eig decomposition of [1, 0, 0, 0]"
      ]
    },
    {
      "cell_type": "code",
      "metadata": {
        "id": "d9vWZ1rKs5Gk",
        "colab_type": "code",
        "colab": {}
      },
      "source": [
        "# check that eigvecs are orthonormal\n",
        "assert np.isclose(np.matmul(eigvec.T,eigvec), np.eye(nn)).all()\n",
        "\n",
        "init = np.concatenate([np.array([1]), np.zeros(nn-1)])\n",
        "init_comp = np.matmul(init, eigvec)\n",
        "\n",
        "assert (init_comp == eigvec[0,:]).all()"
      ],
      "execution_count": 0,
      "outputs": []
    },
    {
      "cell_type": "code",
      "metadata": {
        "id": "pW0ZWwgdDtzt",
        "colab_type": "code",
        "colab": {}
      },
      "source": [
        "# time const of exp decay\n",
        "tau = 1/(2*np.pi*v**2/e)"
      ],
      "execution_count": 0,
      "outputs": []
    },
    {
      "cell_type": "code",
      "metadata": {
        "id": "xARhVVqCDutx",
        "colab_type": "code",
        "outputId": "3d855839-e1b9-436a-9771-fac756791cca",
        "colab": {
          "base_uri": "https://localhost:8080/",
          "height": 34
        }
      },
      "source": [
        "\n",
        "tau"
      ],
      "execution_count": 0,
      "outputs": [
        {
          "output_type": "execute_result",
          "data": {
            "text/plain": [
              "0.039788735772973836"
            ]
          },
          "metadata": {
            "tags": []
          },
          "execution_count": 154
        }
      ]
    },
    {
      "cell_type": "code",
      "metadata": {
        "id": "cOpGloWWFDw2",
        "colab_type": "code",
        "outputId": "aab41b94-daca-4b8c-ed91-d312f188b70a",
        "colab": {
          "base_uri": "https://localhost:8080/",
          "height": 282
        }
      },
      "source": [
        "plt.plot(init_comp,'.')"
      ],
      "execution_count": 0,
      "outputs": [
        {
          "output_type": "execute_result",
          "data": {
            "text/plain": [
              "[<matplotlib.lines.Line2D at 0x7f6368628470>]"
            ]
          },
          "metadata": {
            "tags": []
          },
          "execution_count": 155
        },
        {
          "output_type": "display_data",
          "data": {
            "image/png": "[encoded data removed]",
            "text/plain": [
              "<Figure size 432x288 with 1 Axes>"
            ]
          },
          "metadata": {
            "tags": [],
            "needs_background": "light"
          }
        }
      ]
    },
    {
      "cell_type": "code",
      "metadata": {
        "id": "J8ZvEkGps5Gr",
        "colab_type": "code",
        "outputId": "8b7c2a4d-8768-4d78-fe91-7b239f27e928",
        "colab": {
          "base_uri": "https://localhost:8080/",
          "height": 513
        }
      },
      "source": [
        "t_state_p = []\n",
        "# can do this in a vectorized way\n",
        "tgrid =np.linspace(0, 5*tau, 500)\n",
        "for t in tgrid:\n",
        "    t_comp = np.exp(1j*eigval*t) * init_comp\n",
        "    t_state = np.matmul(eigvec, t_comp)\n",
        "    t_state_p += [np.abs(t_state)**2]\n",
        "\n",
        "assert np.isclose([p.sum() for p in t_state_p], 1).all()\n",
        "\n",
        "decay = np.array([t_state_p[i][0] for\n",
        "                  i in range(len(t_state_p))])\n",
        "plt.plot(tgrid, decay, marker='o')\n",
        "plt.plot(tgrid, np.exp(-tgrid/tau))\n",
        "plt.show()\n",
        "plt.plot(tgrid, np.log(decay), marker='o')\n",
        "plt.plot(tgrid, -tgrid/tau)\n",
        "plt.show()\n"
      ],
      "execution_count": 0,
      "outputs": [
        {
          "output_type": "display_data",
          "data": {
            "image/png": "[encoded data removed]",
            "text/plain": [
              "<Figure size 432x288 with 1 Axes>"
            ]
          },
          "metadata": {
            "tags": [],
            "needs_background": "light"
          }
        },
        {
          "output_type": "display_data",
          "data": {
            "image/png": "[encoded data removed]",
            "text/plain": [
              "<Figure size 432x288 with 1 Axes>"
            ]
          },
          "metadata": {
            "tags": [],
            "needs_background": "light"
          }
        }
      ]
    },
    {
      "cell_type": "code",
      "metadata": {
        "id": "ePXkMzibs5G_",
        "colab_type": "code",
        "colab": {}
      },
      "source": [
        ""
      ],
      "execution_count": 0,
      "outputs": []
    },
    {
      "cell_type": "code",
      "metadata": {
        "id": "MEumkXL2s5HH",
        "colab_type": "code",
        "colab": {}
      },
      "source": [
        ""
      ],
      "execution_count": 0,
      "outputs": []
    }
  ]
}